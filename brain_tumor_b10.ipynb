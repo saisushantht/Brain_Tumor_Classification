{
  "cells": [
    {
      "cell_type": "code",
      "execution_count": null,
      "metadata": {
        "id": "I9-ZUQWd2LIW"
      },
      "outputs": [],
      "source": [
        "import numpy as np\n",
        "import os\n",
        "import pathlib\n",
        "import skimage.io as io\n",
        "import skimage.transform as tf\n",
        "import skimage.exposure as ex\n",
        "import skimage.color as color\n",
        "import matplotlib.pyplot as plt\n",
        "import torch\n",
        "import torch.optim as optim\n",
        "import random\n",
        "import time\n",
        "import copy"
      ]
    },
    {
      "cell_type": "markdown",
      "source": [
        ""
      ],
      "metadata": {
        "id": "_jd2F36SBgSx"
      }
    },
    {
      "cell_type": "code",
      "execution_count": null,
      "metadata": {
        "colab": {
          "base_uri": "https://localhost:8080/"
        },
        "id": "aiEGMMmcF4km",
        "outputId": "b40b15dd-1205-4da2-9e1b-66f462814c8b"
      },
      "outputs": [
        {
          "output_type": "stream",
          "name": "stdout",
          "text": [
            "Drive already mounted at /content/drive; to attempt to forcibly remount, call drive.mount(\"/content/drive\", force_remount=True).\n"
          ]
        }
      ],
      "source": [
        "from google.colab import drive\n",
        "drive.mount('/content/drive')"
      ]
    },
    {
      "cell_type": "code",
      "execution_count": null,
      "metadata": {
        "id": "zL1g5zEr2LIb"
      },
      "outputs": [],
      "source": [
        "def flip(images, labels, axis): \n",
        "    flipped_images = np.flip(images, axis)\n",
        "    flipped_labels = labels\n",
        "    return flipped_images,flipped_labels\n",
        "\n",
        "def brightness(images, labels, gamma):\n",
        "    brightness_images =  np.array([ex.adjust_gamma(image, gamma ,gain=1) for image in images])\n",
        "    brightness_labels = labels\n",
        "    return brightness_images, brightness_labels\n",
        "\n",
        "\n",
        "def data_augmentation(images, labels):\n",
        "    # Data augmentation (flip_horizontal)\n",
        "    flipped_y_images,flipped_y_labels = flip(images, labels, axis=2)\n",
        "\n",
        "    # Concatenate arrays\n",
        "    images = np.concatenate([images, flipped_y_images])\n",
        "    labels = np.concatenate([labels, flipped_y_labels])\n",
        "    \n",
        "    darken_images, darken_labels = brightness(images, labels, gamma=1.5)\n",
        "    brighten_images, brighten_labels = brightness(images, labels, gamma=0.5)\n",
        "\n",
        "    # Concatenate arrays\n",
        "    images = np.concatenate([images, darken_images, brighten_images])\n",
        "    labels = np.concatenate([labels, darken_labels, brighten_labels])\n",
        "    \n",
        "    return images, labels"
      ]
    },
    {
      "cell_type": "code",
      "execution_count": null,
      "metadata": {
        "id": "uN_wxZHe2LIc"
      },
      "outputs": [],
      "source": [
        "def load_data():\n",
        "    path = pathlib.Path.cwd().parent / \"content/drive/MyDrive/brain_tum\" /\"data\" \n",
        "    images = []\n",
        "    labels = []\n",
        "\n",
        "\n",
        "    for directory in os.listdir(path):\n",
        "        data_path = path / directory\n",
        "        for subdirectory in os.listdir(data_path):\n",
        "            subdata_path = data_path / subdirectory\n",
        "            for im in os.listdir(subdata_path):\n",
        "                image = io.imread(f\"{subdata_path}/{im}\")\n",
        "                image = color.rgb2gray(image)\n",
        "                image = tf.resize(image, (64, 64))\n",
        "                images.append(image)  \n",
        "                labels.append(subdirectory)\n",
        "\n",
        "    images = np.array(images)\n",
        "    labels = np.array(labels)\n",
        "\n",
        "    images, labels = data_augmentation(images, labels)\n",
        "    return images, labels\n"
      ]
    },
    {
      "cell_type": "code",
      "execution_count": null,
      "metadata": {
        "id": "-11hN9MXjOoD"
      },
      "outputs": [],
      "source": [
        "from sklearn.model_selection import train_test_split\n",
        "\n",
        "class Data():\n",
        "    def __init__(self, loader, classes):\n",
        "        super(Data, self).__init__()\n",
        "        self.images, self.labels = loader\n",
        "        self.classes = classes\n",
        "        self.shapes = (self.images.shape, self.labels.shape)\n",
        "        print(\"Data loaded successfully :)\")\n",
        "\n",
        "    def stat(self):\n",
        "        keys = self.classes.keys()\n",
        "        stat = {}\n",
        "        for key in keys:\n",
        "            n = 0\n",
        "            for label in self.labels:\n",
        "                if label == key:\n",
        "                    n += 1\n",
        "                else:\n",
        "                    pass\n",
        "            stat[key] = n\n",
        "        plt.figure(figsize=(4, 4))\n",
        "        plt.pie(stat.values(), labels=stat.keys(), autopct='%1.1f%%', explode=[0.1,0.1,0.1,0.1], shadow=True, startangle=90)\n",
        "        plt.show()\n",
        "\n",
        "    def shape(self):\n",
        "        print(f\"Images shape: {self.shapes[0]}\",\n",
        "              f\"Labels shape: {self.shapes[1]}\\n\")\n",
        "\n",
        "    def encode(self):\n",
        "        total = len(self.classes)\n",
        "        self.labels = np.array([self.classes[item] for item in self.labels])\n",
        "        self.labels = np.eye(total)[self.labels]\n",
        "\n",
        "    def decode(self, item):\n",
        "        keys = list(self.classes.keys())\n",
        "        index = np.argmax(item)\n",
        "        label = keys[index]\n",
        "        return label\n",
        "\n",
        "    def show(self):\n",
        "        f, axis = plt.subplots(nrows=2, ncols=2, constrained_layout=True)\n",
        "        for i, ax in enumerate(axis.flat):\n",
        "            rand = random.randint(0, self.shapes[0][0] - 1)\n",
        "            if len(self.shapes[0]) == 4:\n",
        "                ax.imshow(self.images[rand])\n",
        "            elif len(self.shapes[0]) == 3:\n",
        "                ax.imshow(self.images[rand], cmap=\"gray\")\n",
        "\n",
        "            title = f\"target: {self.labels[rand]}\"\n",
        "            ax.set_title(title)\n",
        "        plt.show()\n",
        "\n",
        "    def dataset(self, split_size, shuffle, random_state, images_format,\n",
        "                labels_format, permute, one_hot, device):\n",
        "\n",
        "        if len(self.shapes[0])==3:\n",
        "            self.images = np.expand_dims(self.images, axis=3)\n",
        "\n",
        "        elif len(self.shapes[0])==4:\n",
        "            pass\n",
        "\n",
        "        if one_hot:\n",
        "            self.encode()\n",
        "        else:\n",
        "            pass\n",
        "\n",
        "        x_train, x_val, y_train, y_val = train_test_split(self.images,\n",
        "                                                          self.labels,\n",
        "                                                          test_size=split_size,\n",
        "                                                          shuffle=shuffle,\n",
        "                                                          random_state=random_state)\n",
        "\n",
        "        x_test, x_val, y_test, y_val = train_test_split(x_val, y_val,\n",
        "                                                        test_size=0.4,\n",
        "                                                        shuffle=shuffle,\n",
        "                                                        random_state=random_state)\n",
        "\n",
        "        # Free memory\n",
        "        del self.images, self.labels\n",
        "\n",
        "        # Convert Numpy arrays to Torch tensors\n",
        "        self.train_inputs = torch.from_numpy(x_train).to(images_format).to(device)\n",
        "        self.train_outputs = torch.from_numpy(y_train).to(labels_format).to(device)\n",
        "        del x_train, y_train\n",
        "\n",
        "        self.val_inputs = torch.from_numpy(x_val).to(images_format).to(device)\n",
        "        self.val_outputs = torch.from_numpy(y_val).to(labels_format).to(device)\n",
        "        del x_val, y_val\n",
        "\n",
        "        self.test_inputs = torch.from_numpy(x_test).to(images_format).to(device)\n",
        "        self.test_outputs = torch.from_numpy(y_test).to(labels_format).to(device)\n",
        "        del x_test, y_test\n",
        "\n",
        "        if permute:\n",
        "            self.train_inputs = self.train_inputs.permute(0, 3, 1, 2)\n",
        "            self.val_inputs = self.val_inputs.permute(0, 3, 1, 2)\n",
        "            self.test_inputs = self.test_inputs.permute(0, 3, 1, 2)\n",
        "\n",
        "        # Verify datasets shapes\n",
        "        print(f\"Train tensor shape: {self.train_inputs.shape}, {self.train_outputs.shape}\")\n",
        "        print(f\"Test tensor shape: {self.test_inputs.shape}, {self.test_outputs.shape}\")\n",
        "        print(f\"Validation tensor shape: {self.val_inputs.shape}, {self.val_outputs.shape}\")\n",
        "\n",
        "        print(\"\\nDataset generated successfully :)\")"
      ]
    },
    {
      "cell_type": "code",
      "execution_count": null,
      "metadata": {
        "colab": {
          "base_uri": "https://localhost:8080/",
          "height": 364
        },
        "id": "Yq3gZYfO2LIe",
        "outputId": "f88752fa-056c-4e2f-ce3b-32101362a0b3"
      },
      "outputs": [
        {
          "output_type": "stream",
          "name": "stdout",
          "text": [
            "Data loaded successfully :)\n",
            "Images shape: (19584, 64, 64) Labels shape: (19584,)\n",
            "\n"
          ]
        },
        {
          "output_type": "display_data",
          "data": {
            "text/plain": [
              "<Figure size 432x288 with 4 Axes>"
            ],
            "image/png": "[encoded data removed]"
          },
          "metadata": {
            "needs_background": "light"
          }
        }
      ],
      "source": [
        "device = torch.device(\"cuda\" if torch.cuda.is_available() else \"cpu\")\n",
        "classes = {'glioma_tumor': 0, 'meningioma_tumor': 1, 'no_tumor': 2, 'pituitary_tumor': 3}\n",
        "\n",
        "data = Data(loader=load_data(), classes=classes)\n",
        "data.shape()\n",
        "data.show()"
      ]
    },
    {
      "cell_type": "code",
      "source": [
        "data.stat()"
      ],
      "metadata": {
        "colab": {
          "base_uri": "https://localhost:8080/",
          "height": 248
        },
        "id": "Y2GH7jR57DJU",
        "outputId": "1289684a-0fb0-42f6-94df-35dd9981e004"
      },
      "execution_count": null,
      "outputs": [
        {
          "output_type": "display_data",
          "data": {
            "text/plain": [
              "<Figure size 288x288 with 1 Axes>"
            ],
            "image/png": "[encoded data removed]"
          },
          "metadata": {}
        }
      ]
    },
    {
      "cell_type": "code",
      "execution_count": null,
      "metadata": {
        "colab": {
          "base_uri": "https://localhost:8080/"
        },
        "id": "fN8dUN4_2LIf",
        "outputId": "485e7f5a-ddd6-41ac-e6fc-a17fd5f4f45c"
      },
      "outputs": [
        {
          "output_type": "stream",
          "name": "stdout",
          "text": [
            "Train tensor shape: torch.Size([18017, 1, 64, 64]), torch.Size([18017, 4])\n",
            "Test tensor shape: torch.Size([940, 1, 64, 64]), torch.Size([940, 4])\n",
            "Validation tensor shape: torch.Size([627, 1, 64, 64]), torch.Size([627, 4])\n",
            "\n",
            "Dataset generated successfully :)\n"
          ]
        }
      ],
      "source": [
        "# divided dataset into train,test,validate(used to improve parameters )\n",
        "data.dataset(split_size=0.08, shuffle=True, random_state=42,\n",
        "             images_format=torch.float32, labels_format=torch.float32,\n",
        "             permute=True,one_hot=True ,device=device)"
      ]
    },
    {
      "cell_type": "code",
      "execution_count": null,
      "metadata": {
        "id": "Tka9OsCx2LIg"
      },
      "outputs": [],
      "source": [
        "# Define CNN \n",
        "class conv_layer(torch.nn.Module):\n",
        "\n",
        "    def __init__(self, in_features, out_features):\n",
        "        super(conv_layer, self).__init__()\n",
        "        self.conv = torch.nn.Conv2d(in_features, out_features, kernel_size=3, stride=1, padding=1)\n",
        "        self.relu = torch.nn.ReLU()\n",
        "        self.norm = torch.nn.BatchNorm2d(out_features)\n",
        "        self.pool = torch.nn.MaxPool2d(kernel_size=2, stride=2)\n",
        "\n",
        "\n",
        "    def forward(self, X: torch.Tensor) -> torch.Tensor:\n",
        "        X = self.conv(X)\n",
        "        X = self.relu(X)\n",
        "        X = self.norm(X)\n",
        "        X = self.pool(X)\n",
        "        return X\n",
        "\n",
        "\n",
        "class Network(torch.nn.Module):\n",
        "\n",
        "    def __init__(self):\n",
        "        super(Network, self).__init__()\n",
        "        self.input_norm = torch.nn.BatchNorm2d(1, affine=False)\n",
        "        self.layer1 = conv_layer(in_features=1, out_features=8)\n",
        "        self.layer2 = conv_layer(in_features=8, out_features=16)\n",
        "        self.layer3 = conv_layer(in_features=16, out_features=32)\n",
        "        self.layer4 = conv_layer(in_features=32, out_features=64)\n",
        "        self.layer5 = conv_layer(in_features=64, out_features=128)\n",
        "        self.layer6 = conv_layer(in_features=128, out_features=256)\n",
        "        \n",
        "        \n",
        "\n",
        "        self.net = torch.nn.Sequential(self.layer1, self.layer2, self.layer3, \n",
        "                                       self.layer4, self.layer5, self.layer6)\n",
        "            \n",
        "        \n",
        "        self.fc1 = torch.nn.Linear(in_features=256, out_features=128)\n",
        "        self.bn1 = torch.nn.BatchNorm1d(128)\n",
        "        \n",
        "        self.fc2 = torch.nn.Linear(in_features=128, out_features=32)\n",
        "        self.bn2 = torch.nn.BatchNorm1d(32)\n",
        "\n",
        "        self.fc3 = torch.nn.Linear(in_features=32, out_features=8)\n",
        "        self.bn3 = torch.nn.BatchNorm1d(8)\n",
        "\n",
        "        self.fc4 = torch.nn.Linear(in_features=8, out_features=4)\n",
        "\n",
        "\n",
        "        self.lin = torch.nn.Sequential(self.fc1, self.bn1, self.fc2, self.bn2,\n",
        "                                       self.fc3, self.bn3, self.fc4)  \n",
        "\n",
        "\n",
        "    def forward(self, X: torch.Tensor) -> torch.Tensor:\n",
        "        X = self.input_norm(X)\n",
        "        X = self.net(X)\n",
        "        X = X.reshape(X.size(0), -1)\n",
        "        X = self.lin(X)\n",
        "        X = torch.nn.functional.elu(X, alpha=1.0, inplace=False)\n",
        "        return X"
      ]
    },
    {
      "cell_type": "code",
      "execution_count": null,
      "metadata": {
        "id": "Ix2FLT15wCbE"
      },
      "outputs": [],
      "source": [
        "def rmse(target, pred):\n",
        "    MSE = torch.nn.functional.mse_loss(target, pred, reduction=\"sum\")\n",
        "    return torch.sqrt(MSE)"
      ]
    },
    {
      "cell_type": "code",
      "execution_count": null,
      "metadata": {
        "id": "GrejLRXhjySQ"
      },
      "outputs": [],
      "source": [
        "class Model():\n",
        "    def __init__(self, network, optimizer, device):\n",
        "        super(Model, self).__init__()\n",
        "        self.net = network.to(device)\n",
        "        self.optim = optimizer\n",
        "        self.device = device\n",
        "        print(\"Model initialized succssefully :)\\n\")\n",
        "\n",
        "    def train(self, train_data, val_data, epochs, patience, batch_size, learning_rate):\n",
        "        if self.optim == \"adam\":\n",
        "            self.optim = torch.optim.Adam(self.net.parameters(), lr=learning_rate)\n",
        "        best_loss = np.inf\n",
        "        self.patience = patience\n",
        "        self.train_losses = []\n",
        "        self.val_losses = []\n",
        "        self.achieved_epochs = []\n",
        "        train_inputs, train_outputs = train_data\n",
        "        val_inputs, val_outputs = val_data\n",
        "        total_train = train_inputs.size()[0]\n",
        "        total_val = val_inputs.size()[0]\n",
        "        print(\"Train loop:\\n\")\n",
        "\n",
        "        t0 = time.time()\n",
        "        for epoch in range(epochs):\n",
        "            self.net.train()\n",
        "            train_loss = 0\n",
        "            val_loss = 0\n",
        "            self.achieved_epochs.append(epoch)\n",
        "            train_permutation = torch.randperm(total_train)\n",
        "            val_permutation = torch.randperm(total_val)\n",
        "\n",
        "            for i in range(0, total_train, batch_size):\n",
        "                self.optim.zero_grad()\n",
        "                indices = train_permutation[i:i+batch_size]\n",
        "                batch_x, batch_y = train_inputs[indices], train_outputs[indices]\n",
        "                outputs = self.net(batch_x)\n",
        "                loss = rmse(outputs, batch_y)\n",
        "                loss.backward()\n",
        "                self.optim.step()\n",
        "                train_loss += loss\n",
        "            train_loss = train_loss.cpu().detach() / total_train\n",
        "            self.train_losses.append(train_loss)\n",
        "\n",
        "            for j in range(0, total_val, batch_size):\n",
        "                self.net.eval()\n",
        "                indices = val_permutation[j:j+batch_size]\n",
        "                batch_x, batch_y = val_inputs[indices], val_outputs[indices]\n",
        "                outputs = self.net(batch_x)\n",
        "                loss = rmse(outputs, batch_y)\n",
        "                val_loss += loss\n",
        "            val_loss = val_loss.cpu().detach() / total_val\n",
        "            self.val_losses.append(val_loss)\n",
        "\n",
        "            if val_loss < best_loss:\n",
        "                best_loss = val_loss\n",
        "                cost_patience = patience\n",
        "                self.state_dict = copy.deepcopy(self.net.state_dict())\n",
        "                print(f\"\\tEpoch: {epoch+1}/{epochs}, \",\n",
        "                      f\"Train Loss: {train_loss:.3g}, \",\n",
        "                      f\"Val Loss: {val_loss:.3g}\")\n",
        "\n",
        "            else:\n",
        "                cost_patience -= 1\n",
        "                if cost_patience < 0:\n",
        "                    print(f\"\\nEarly stopping after {patience} epochs of no improvements\")\n",
        "                    break\n",
        "\n",
        "                else:\n",
        "                    print(f\"\\tEpoch: {epoch+1}/{epochs}, \",\n",
        "                          f\"Train Loss: {train_loss:.3g}, \",\n",
        "                          f\"Val Loss: {val_loss:.3g} - No improvement\",\n",
        "                          f\"-> Remaining patience: {cost_patience}\")\n",
        "\n",
        "        tf = time.time()\n",
        "        print(f\"\\nTrain finished successfully in {tf-t0:.3g}s\")\n",
        "\n",
        "    def evaluate(self, test_data):\n",
        "        test_inputs, test_outputs = test_data\n",
        "        self.net.load_state_dict(self.state_dict)\n",
        "        predictions = self.net(test_inputs).cpu().detach().numpy()\n",
        "        correct = 0\n",
        "        wrong = 0\n",
        "        li = []\n",
        "        for i,(j,k) in enumerate(zip(predictions, test_outputs.cpu().detach())):\n",
        "            li1=[np.argmax(j),np.argmax(k)]\n",
        "            li.append(li1)\n",
        "            if np.argmax(j) == np.argmax(k):\n",
        "                correct +=1\n",
        "            else:\n",
        "                wrong += 1\n",
        "\n",
        "        score = 100 * correct / test_outputs.shape[0]\n",
        "        print(f'\\nTest accuracy:{score:.3g}%')\n",
        "        print(f'Correct predictions: {correct}, Wrong predictions: {wrong}')\n",
        "        return li\n",
        "\n",
        "    def save(self, path, checkpoint_name):\n",
        "        torch.save(self.state_dict, f\"{path}/{checkpoint_name}.pth\")\n",
        "        print(\"\\nCheckpoint saved successfully :)\")\n",
        "\n",
        "    def plot_loss(self):\n",
        "        f, ax = plt.subplots()\n",
        "        ax.plot(self.achieved_epochs, self.train_losses, label='train')\n",
        "        ax.plot(self.achieved_epochs, self.val_losses, label='validation')\n",
        "        ax.set_title('model loss')\n",
        "        ax.set_ylabel('loss')\n",
        "        ax.set_xlabel('epoch')\n",
        "        no_improvement_line = self.achieved_epochs[-1] - self.patience\n",
        "        ax.axvline(x=no_improvement_line, color='r')\n",
        "        ax.legend(loc='upper center', frameon=False)\n",
        "        plt.show()\n",
        "      \n",
        "    def predict(self,image):\n",
        "      img = np.expand_dims(image, axis=0)\n",
        "      img = torch.Tensor(img).permute( 3, 1, 2).to(device)\n",
        "      print(img.shape)\n",
        "      pred = self(img)\n",
        "      pred_np = pred.cpu().detach().numpy()\n",
        "      print(np.argmax(pred_np))\n"
      ]
    },
    {
      "cell_type": "code",
      "execution_count": null,
      "metadata": {
        "id": "bsn5JmFN2LIi",
        "colab": {
          "base_uri": "https://localhost:8080/"
        },
        "outputId": "6f29dd24-0ced-4917-c484-2ad79fcb0476"
      },
      "outputs": [
        {
          "output_type": "stream",
          "name": "stdout",
          "text": [
            "Model initialized succssefully :)\n",
            "\n",
            "Train loop:\n",
            "\n",
            "\tEpoch: 1/20,  Train Loss: 0.0711,  Val Loss: 0.0629\n",
            "\tEpoch: 2/20,  Train Loss: 0.0443,  Val Loss: 0.0437\n",
            "\tEpoch: 3/20,  Train Loss: 0.0327,  Val Loss: 0.0338\n",
            "\tEpoch: 4/20,  Train Loss: 0.0257,  Val Loss: 0.0244\n",
            "\tEpoch: 5/20,  Train Loss: 0.0214,  Val Loss: 0.0218\n",
            "\tEpoch: 6/20,  Train Loss: 0.0184,  Val Loss: 0.0221 - No improvement -> Remaining patience: 4\n",
            "\tEpoch: 7/20,  Train Loss: 0.0165,  Val Loss: 0.0158\n",
            "\tEpoch: 8/20,  Train Loss: 0.0148,  Val Loss: 0.0176 - No improvement -> Remaining patience: 4\n",
            "\tEpoch: 9/20,  Train Loss: 0.0146,  Val Loss: 0.0238 - No improvement -> Remaining patience: 3\n",
            "\tEpoch: 10/20,  Train Loss: 0.0142,  Val Loss: 0.0186 - No improvement -> Remaining patience: 2\n",
            "\tEpoch: 11/20,  Train Loss: 0.0126,  Val Loss: 0.0143\n",
            "\tEpoch: 12/20,  Train Loss: 0.0123,  Val Loss: 0.0184 - No improvement -> Remaining patience: 4\n",
            "\tEpoch: 13/20,  Train Loss: 0.0124,  Val Loss: 0.0141\n",
            "\tEpoch: 14/20,  Train Loss: 0.0117,  Val Loss: 0.0156 - No improvement -> Remaining patience: 4\n",
            "\tEpoch: 15/20,  Train Loss: 0.0109,  Val Loss: 0.0151 - No improvement -> Remaining patience: 3\n",
            "\tEpoch: 16/20,  Train Loss: 0.0101,  Val Loss: 0.0094\n",
            "\tEpoch: 17/20,  Train Loss: 0.01,  Val Loss: 0.00949 - No improvement -> Remaining patience: 4\n",
            "\tEpoch: 18/20,  Train Loss: 0.0109,  Val Loss: 0.019 - No improvement -> Remaining patience: 3\n",
            "\tEpoch: 19/20,  Train Loss: 0.0139,  Val Loss: 0.0157 - No improvement -> Remaining patience: 2\n",
            "\tEpoch: 20/20,  Train Loss: 0.0112,  Val Loss: 0.0151 - No improvement -> Remaining patience: 1\n",
            "\n",
            "Train finished successfully in 1.03e+03s\n"
          ]
        }
      ],
      "source": [
        "net = Network()\n",
        "optimizer = optim.Adam(net.parameters(), lr=1.0E-3)\n",
        "\n",
        "BrainTumorClassifier = Model(net, optimizer, device)\n",
        "BrainTumorClassifier.train(train_data=(data.train_inputs, data.train_outputs),\n",
        "                           val_data=(data.val_inputs, data.val_outputs),\n",
        "                           epochs=20, patience=5, batch_size=100,learning_rate=1.0E-3)"
      ]
    },
    {
      "cell_type": "code",
      "execution_count": null,
      "metadata": {
        "id": "g_eQPAfv2LIk",
        "colab": {
          "base_uri": "https://localhost:8080/"
        },
        "outputId": "b489de69-9fa9-46fd-a27c-8d32378a34e5"
      },
      "outputs": [
        {
          "output_type": "stream",
          "name": "stdout",
          "text": [
            "\n",
            "Test accuracy:99.6%\n",
            "Correct predictions: 936, Wrong predictions: 4\n"
          ]
        }
      ],
      "source": [
        "pre = BrainTumorClassifier.evaluate(test_data=(data.test_inputs, data.test_outputs))"
      ]
    },
    {
      "cell_type": "code",
      "execution_count": null,
      "metadata": {
        "id": "Sd0Ad5qj2LIl",
        "colab": {
          "base_uri": "https://localhost:8080/",
          "height": 329
        },
        "outputId": "e94dd644-85d8-42b5-c582-c3274056330a"
      },
      "outputs": [
        {
          "output_type": "display_data",
          "data": {
            "text/plain": [
              "<Figure size 432x288 with 1 Axes>"
            ],
            "image/png": "[encoded data removed]"
          },
          "metadata": {
            "needs_background": "light"
          }
        },
        {
          "output_type": "stream",
          "name": "stdout",
          "text": [
            "\n",
            "Checkpoint saved successfully :)\n"
          ]
        }
      ],
      "source": [
        "BrainTumorClassifier.plot_loss()\n",
        "BrainTumorClassifier.save(path=\"./\", checkpoint_name=\"module\")"
      ]
    }
  ],
  "metadata": {
    "colab": {
      "collapsed_sections": [],
      "name": "brain-tumor_b10.ipynb",
      "provenance": []
    },
    "kernelspec": {
      "display_name": "Python 3",
      "language": "python",
      "name": "python3"
    },
    "language_info": {
      "codemirror_mode": {
        "name": "ipython",
        "version": 3
      },
      "file_extension": ".py",
      "mimetype": "text/x-python",
      "name": "python",
      "nbconvert_exporter": "python",
      "pygments_lexer": "ipython3",
      "version": "3.7.6"
    }
  },
  "nbformat": 4,
  "nbformat_minor": 0
}